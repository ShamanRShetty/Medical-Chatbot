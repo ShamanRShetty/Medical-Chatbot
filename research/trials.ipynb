{
 "cells": [
  {
   "cell_type": "code",
   "execution_count": 6,
   "id": "deb7e9e0",
   "metadata": {},
   "outputs": [],
   "source": [
    "import os\n",
    "os.chdir(\"../\")"
   ]
  },
  {
   "cell_type": "code",
   "execution_count": 7,
   "id": "306637e0",
   "metadata": {},
   "outputs": [
    {
     "data": {
      "text/plain": [
       "'d:\\\\stash-projects\\\\Medical-Chatbot\\\\Medical-Chatbot'"
      ]
     },
     "execution_count": 7,
     "metadata": {},
     "output_type": "execute_result"
    }
   ],
   "source": [
    "%pwd"
   ]
  },
  {
   "cell_type": "code",
   "execution_count": 8,
   "id": "e7358a34",
   "metadata": {},
   "outputs": [],
   "source": [
    "from langchain.document_loaders import PyPDFLoader, DirectoryLoader\n",
    "from langchain.text_splitter import RecursiveCharacterTextSplitter"
   ]
  },
  {
   "cell_type": "code",
   "execution_count": 12,
   "id": "364b9d4e",
   "metadata": {},
   "outputs": [
    {
     "ename": "KeyboardInterrupt",
     "evalue": "",
     "output_type": "error",
     "traceback": [
      "\u001b[31m---------------------------------------------------------------------------\u001b[39m",
      "\u001b[31mKeyboardInterrupt\u001b[39m                         Traceback (most recent call last)",
      "\u001b[36mCell\u001b[39m\u001b[36m \u001b[39m\u001b[32mIn[12]\u001b[39m\u001b[32m, line 14\u001b[39m\n\u001b[32m     11\u001b[39m             pickle.dump(documents, f)\n\u001b[32m     12\u001b[39m         \u001b[38;5;28;01mreturn\u001b[39;00m documents\n\u001b[32m---> \u001b[39m\u001b[32m14\u001b[39m extracted_data = \u001b[43mget_documents\u001b[49m\u001b[43m(\u001b[49m\u001b[33;43m\"\u001b[39;49m\u001b[33;43mdata\u001b[39;49m\u001b[33;43m\"\u001b[39;49m\u001b[43m)\u001b[49m\n\u001b[32m     15\u001b[39m \u001b[38;5;28mprint\u001b[39m(\u001b[33mf\u001b[39m\u001b[33m\"\u001b[39m\u001b[33m✅ Got \u001b[39m\u001b[38;5;132;01m{\u001b[39;00m\u001b[38;5;28mlen\u001b[39m(extracted_data)\u001b[38;5;132;01m}\u001b[39;00m\u001b[33m documents\u001b[39m\u001b[33m\"\u001b[39m)\n",
      "\u001b[36mCell\u001b[39m\u001b[36m \u001b[39m\u001b[32mIn[12]\u001b[39m\u001b[32m, line 9\u001b[39m, in \u001b[36mget_documents\u001b[39m\u001b[34m(data_dir, cache_file)\u001b[39m\n\u001b[32m      7\u001b[39m \u001b[38;5;28;01melse\u001b[39;00m:\n\u001b[32m      8\u001b[39m     loader = DirectoryLoader(data_dir, glob=\u001b[33m\"\u001b[39m\u001b[33m*.pdf\u001b[39m\u001b[33m\"\u001b[39m, loader_cls=PyPDFLoader)\n\u001b[32m----> \u001b[39m\u001b[32m9\u001b[39m     documents = \u001b[43mloader\u001b[49m\u001b[43m.\u001b[49m\u001b[43mload\u001b[49m\u001b[43m(\u001b[49m\u001b[43m)\u001b[49m\n\u001b[32m     10\u001b[39m     \u001b[38;5;28;01mwith\u001b[39;00m \u001b[38;5;28mopen\u001b[39m(cache_file, \u001b[33m\"\u001b[39m\u001b[33mwb\u001b[39m\u001b[33m\"\u001b[39m) \u001b[38;5;28;01mas\u001b[39;00m f:\n\u001b[32m     11\u001b[39m         pickle.dump(documents, f)\n",
      "\u001b[36mFile \u001b[39m\u001b[32m~\\AppData\\Roaming\\Python\\Python313\\site-packages\\langchain_community\\document_loaders\\directory.py:117\u001b[39m, in \u001b[36mDirectoryLoader.load\u001b[39m\u001b[34m(self)\u001b[39m\n\u001b[32m    115\u001b[39m \u001b[38;5;28;01mdef\u001b[39;00m\u001b[38;5;250m \u001b[39m\u001b[34mload\u001b[39m(\u001b[38;5;28mself\u001b[39m) -> List[Document]:\n\u001b[32m    116\u001b[39m \u001b[38;5;250m    \u001b[39m\u001b[33;03m\"\"\"Load documents.\"\"\"\u001b[39;00m\n\u001b[32m--> \u001b[39m\u001b[32m117\u001b[39m     \u001b[38;5;28;01mreturn\u001b[39;00m \u001b[38;5;28;43mlist\u001b[39;49m\u001b[43m(\u001b[49m\u001b[38;5;28;43mself\u001b[39;49m\u001b[43m.\u001b[49m\u001b[43mlazy_load\u001b[49m\u001b[43m(\u001b[49m\u001b[43m)\u001b[49m\u001b[43m)\u001b[49m\n",
      "\u001b[36mFile \u001b[39m\u001b[32m~\\AppData\\Roaming\\Python\\Python313\\site-packages\\langchain_community\\document_loaders\\directory.py:195\u001b[39m, in \u001b[36mDirectoryLoader.lazy_load\u001b[39m\u001b[34m(self)\u001b[39m\n\u001b[32m    193\u001b[39m \u001b[38;5;28;01melse\u001b[39;00m:\n\u001b[32m    194\u001b[39m     \u001b[38;5;28;01mfor\u001b[39;00m i \u001b[38;5;129;01min\u001b[39;00m items:\n\u001b[32m--> \u001b[39m\u001b[32m195\u001b[39m         \u001b[38;5;28;01myield from\u001b[39;00m \u001b[38;5;28mself\u001b[39m._lazy_load_file(i, p, pbar)\n\u001b[32m    197\u001b[39m \u001b[38;5;28;01mif\u001b[39;00m pbar:\n\u001b[32m    198\u001b[39m     pbar.close()\n",
      "\u001b[36mFile \u001b[39m\u001b[32m~\\AppData\\Roaming\\Python\\Python313\\site-packages\\langchain_community\\document_loaders\\directory.py:223\u001b[39m, in \u001b[36mDirectoryLoader._lazy_load_file\u001b[39m\u001b[34m(self, item, path, pbar)\u001b[39m\n\u001b[32m    221\u001b[39m loader = \u001b[38;5;28mself\u001b[39m.loader_cls(\u001b[38;5;28mstr\u001b[39m(item), **\u001b[38;5;28mself\u001b[39m.loader_kwargs)\n\u001b[32m    222\u001b[39m \u001b[38;5;28;01mtry\u001b[39;00m:\n\u001b[32m--> \u001b[39m\u001b[32m223\u001b[39m \u001b[43m    \u001b[49m\u001b[38;5;28;43;01mfor\u001b[39;49;00m\u001b[43m \u001b[49m\u001b[43msubdoc\u001b[49m\u001b[43m \u001b[49m\u001b[38;5;129;43;01min\u001b[39;49;00m\u001b[43m \u001b[49m\u001b[43mloader\u001b[49m\u001b[43m.\u001b[49m\u001b[43mlazy_load\u001b[49m\u001b[43m(\u001b[49m\u001b[43m)\u001b[49m\u001b[43m:\u001b[49m\n\u001b[32m    224\u001b[39m \u001b[43m        \u001b[49m\u001b[38;5;28;43;01myield\u001b[39;49;00m\u001b[43m \u001b[49m\u001b[43msubdoc\u001b[49m\n\u001b[32m    225\u001b[39m \u001b[38;5;28;01mexcept\u001b[39;00m \u001b[38;5;167;01mNotImplementedError\u001b[39;00m:\n",
      "\u001b[36mFile \u001b[39m\u001b[32m~\\AppData\\Roaming\\Python\\Python313\\site-packages\\langchain_community\\document_loaders\\pdf.py:305\u001b[39m, in \u001b[36mPyPDFLoader.lazy_load\u001b[39m\u001b[34m(self)\u001b[39m\n\u001b[32m    303\u001b[39m \u001b[38;5;28;01melse\u001b[39;00m:\n\u001b[32m    304\u001b[39m     blob = Blob.from_path(\u001b[38;5;28mself\u001b[39m.file_path)\n\u001b[32m--> \u001b[39m\u001b[32m305\u001b[39m \u001b[38;5;28;01myield from\u001b[39;00m \u001b[38;5;28mself\u001b[39m.parser.lazy_parse(blob)\n",
      "\u001b[36mFile \u001b[39m\u001b[32m~\\AppData\\Roaming\\Python\\Python313\\site-packages\\langchain_community\\document_loaders\\parsers\\pdf.py:396\u001b[39m, in \u001b[36mPyPDFParser.lazy_parse\u001b[39m\u001b[34m(self, blob)\u001b[39m\n\u001b[32m    394\u001b[39m single_texts = []\n\u001b[32m    395\u001b[39m \u001b[38;5;28;01mfor\u001b[39;00m page_number, page \u001b[38;5;129;01min\u001b[39;00m \u001b[38;5;28menumerate\u001b[39m(pdf_reader.pages):\n\u001b[32m--> \u001b[39m\u001b[32m396\u001b[39m     text_from_page = \u001b[43m_extract_text_from_page\u001b[49m\u001b[43m(\u001b[49m\u001b[43mpage\u001b[49m\u001b[43m=\u001b[49m\u001b[43mpage\u001b[49m\u001b[43m)\u001b[49m\n\u001b[32m    397\u001b[39m     images_from_page = \u001b[38;5;28mself\u001b[39m.extract_images_from_page(page)\n\u001b[32m    398\u001b[39m     all_text = _merge_text_and_extras(\n\u001b[32m    399\u001b[39m         [images_from_page], text_from_page\n\u001b[32m    400\u001b[39m     ).strip()\n",
      "\u001b[36mFile \u001b[39m\u001b[32m~\\AppData\\Roaming\\Python\\Python313\\site-packages\\langchain_community\\document_loaders\\parsers\\pdf.py:378\u001b[39m, in \u001b[36mPyPDFParser.lazy_parse.<locals>._extract_text_from_page\u001b[39m\u001b[34m(page)\u001b[39m\n\u001b[32m    376\u001b[39m     \u001b[38;5;28;01mreturn\u001b[39;00m page.extract_text()\n\u001b[32m    377\u001b[39m \u001b[38;5;28;01melse\u001b[39;00m:\n\u001b[32m--> \u001b[39m\u001b[32m378\u001b[39m     \u001b[38;5;28;01mreturn\u001b[39;00m \u001b[43mpage\u001b[49m\u001b[43m.\u001b[49m\u001b[43mextract_text\u001b[49m\u001b[43m(\u001b[49m\n\u001b[32m    379\u001b[39m \u001b[43m        \u001b[49m\u001b[43mextraction_mode\u001b[49m\u001b[43m=\u001b[49m\u001b[38;5;28;43mself\u001b[39;49m\u001b[43m.\u001b[49m\u001b[43mextraction_mode\u001b[49m\u001b[43m,\u001b[49m\n\u001b[32m    380\u001b[39m \u001b[43m        \u001b[49m\u001b[43m*\u001b[49m\u001b[43m*\u001b[49m\u001b[38;5;28;43mself\u001b[39;49m\u001b[43m.\u001b[49m\u001b[43mextraction_kwargs\u001b[49m\u001b[43m,\u001b[49m\n\u001b[32m    381\u001b[39m \u001b[43m    \u001b[49m\u001b[43m)\u001b[49m\n",
      "\u001b[36mFile \u001b[39m\u001b[32m~\\AppData\\Roaming\\Python\\Python313\\site-packages\\pypdf\\_page.py:2350\u001b[39m, in \u001b[36mPageObject.extract_text\u001b[39m\u001b[34m(self, orientations, space_width, visitor_operand_before, visitor_operand_after, visitor_text, extraction_mode, *args, **kwargs)\u001b[39m\n\u001b[32m   2347\u001b[39m \u001b[38;5;28;01mif\u001b[39;00m \u001b[38;5;28misinstance\u001b[39m(orientations, \u001b[38;5;28mint\u001b[39m):\n\u001b[32m   2348\u001b[39m     orientations = (orientations,)\n\u001b[32m-> \u001b[39m\u001b[32m2350\u001b[39m \u001b[38;5;28;01mreturn\u001b[39;00m \u001b[38;5;28;43mself\u001b[39;49m\u001b[43m.\u001b[49m\u001b[43m_extract_text\u001b[49m\u001b[43m(\u001b[49m\n\u001b[32m   2351\u001b[39m \u001b[43m    \u001b[49m\u001b[38;5;28;43mself\u001b[39;49m\u001b[43m,\u001b[49m\n\u001b[32m   2352\u001b[39m \u001b[43m    \u001b[49m\u001b[38;5;28;43mself\u001b[39;49m\u001b[43m.\u001b[49m\u001b[43mpdf\u001b[49m\u001b[43m,\u001b[49m\n\u001b[32m   2353\u001b[39m \u001b[43m    \u001b[49m\u001b[43morientations\u001b[49m\u001b[43m,\u001b[49m\n\u001b[32m   2354\u001b[39m \u001b[43m    \u001b[49m\u001b[43mspace_width\u001b[49m\u001b[43m,\u001b[49m\n\u001b[32m   2355\u001b[39m \u001b[43m    \u001b[49m\u001b[43mPG\u001b[49m\u001b[43m.\u001b[49m\u001b[43mCONTENTS\u001b[49m\u001b[43m,\u001b[49m\n\u001b[32m   2356\u001b[39m \u001b[43m    \u001b[49m\u001b[43mvisitor_operand_before\u001b[49m\u001b[43m,\u001b[49m\n\u001b[32m   2357\u001b[39m \u001b[43m    \u001b[49m\u001b[43mvisitor_operand_after\u001b[49m\u001b[43m,\u001b[49m\n\u001b[32m   2358\u001b[39m \u001b[43m    \u001b[49m\u001b[43mvisitor_text\u001b[49m\u001b[43m,\u001b[49m\n\u001b[32m   2359\u001b[39m \u001b[43m\u001b[49m\u001b[43m)\u001b[49m\n",
      "\u001b[36mFile \u001b[39m\u001b[32m~\\AppData\\Roaming\\Python\\Python313\\site-packages\\pypdf\\_page.py:2045\u001b[39m, in \u001b[36mPageObject._extract_text\u001b[39m\u001b[34m(self, obj, pdf, orientations, space_width, content_key, visitor_operand_before, visitor_operand_after, visitor_text)\u001b[39m\n\u001b[32m   2042\u001b[39m         \u001b[38;5;28;01mexcept\u001b[39;00m OrientationNotFoundError:\n\u001b[32m   2043\u001b[39m             \u001b[38;5;28;01mreturn\u001b[39;00m\n\u001b[32m-> \u001b[39m\u001b[32m2045\u001b[39m \u001b[38;5;28;01mfor\u001b[39;00m operands, operator \u001b[38;5;129;01min\u001b[39;00m \u001b[43mcontent\u001b[49m\u001b[43m.\u001b[49m\u001b[43moperations\u001b[49m:\n\u001b[32m   2046\u001b[39m     \u001b[38;5;28;01mif\u001b[39;00m visitor_operand_before \u001b[38;5;129;01mis\u001b[39;00m \u001b[38;5;129;01mnot\u001b[39;00m \u001b[38;5;28;01mNone\u001b[39;00m:\n\u001b[32m   2047\u001b[39m         visitor_operand_before(operator, operands, cm_matrix, tm_matrix)\n",
      "\u001b[36mFile \u001b[39m\u001b[32m~\\AppData\\Roaming\\Python\\Python313\\site-packages\\pypdf\\generic\\_data_structures.py:1422\u001b[39m, in \u001b[36mContentStream.operations\u001b[39m\u001b[34m(self)\u001b[39m\n\u001b[32m   1419\u001b[39m \u001b[38;5;129m@property\u001b[39m\n\u001b[32m   1420\u001b[39m \u001b[38;5;28;01mdef\u001b[39;00m\u001b[38;5;250m \u001b[39m\u001b[34moperations\u001b[39m(\u001b[38;5;28mself\u001b[39m) -> List[Tuple[Any, \u001b[38;5;28mbytes\u001b[39m]]:\n\u001b[32m   1421\u001b[39m     \u001b[38;5;28;01mif\u001b[39;00m \u001b[38;5;129;01mnot\u001b[39;00m \u001b[38;5;28mself\u001b[39m._operations \u001b[38;5;129;01mand\u001b[39;00m \u001b[38;5;28mself\u001b[39m._data:\n\u001b[32m-> \u001b[39m\u001b[32m1422\u001b[39m         \u001b[38;5;28;43mself\u001b[39;49m\u001b[43m.\u001b[49m\u001b[43m_parse_content_stream\u001b[49m\u001b[43m(\u001b[49m\u001b[43mBytesIO\u001b[49m\u001b[43m(\u001b[49m\u001b[38;5;28;43mself\u001b[39;49m\u001b[43m.\u001b[49m\u001b[43m_data\u001b[49m\u001b[43m)\u001b[49m\u001b[43m)\u001b[49m\n\u001b[32m   1423\u001b[39m         \u001b[38;5;28mself\u001b[39m._data = \u001b[33mb\u001b[39m\u001b[33m\"\u001b[39m\u001b[33m\"\u001b[39m\n\u001b[32m   1424\u001b[39m     \u001b[38;5;28;01mreturn\u001b[39;00m \u001b[38;5;28mself\u001b[39m._operations\n",
      "\u001b[36mFile \u001b[39m\u001b[32m~\\AppData\\Roaming\\Python\\Python313\\site-packages\\pypdf\\generic\\_data_structures.py:1296\u001b[39m, in \u001b[36mContentStream._parse_content_stream\u001b[39m\u001b[34m(self, stream)\u001b[39m\n\u001b[32m   1294\u001b[39m stream.seek(-\u001b[32m1\u001b[39m, \u001b[32m1\u001b[39m)\n\u001b[32m   1295\u001b[39m \u001b[38;5;28;01mif\u001b[39;00m peek.isalpha() \u001b[38;5;129;01mor\u001b[39;00m peek \u001b[38;5;129;01min\u001b[39;00m (\u001b[33mb\u001b[39m\u001b[33m\"\u001b[39m\u001b[33m'\u001b[39m\u001b[33m\"\u001b[39m, \u001b[33mb\u001b[39m\u001b[33m'\u001b[39m\u001b[33m\"\u001b[39m\u001b[33m'\u001b[39m):\n\u001b[32m-> \u001b[39m\u001b[32m1296\u001b[39m     operator = \u001b[43mread_until_regex\u001b[49m\u001b[43m(\u001b[49m\u001b[43mstream\u001b[49m\u001b[43m,\u001b[49m\u001b[43m \u001b[49m\u001b[43mNameObject\u001b[49m\u001b[43m.\u001b[49m\u001b[43mdelimiter_pattern\u001b[49m\u001b[43m)\u001b[49m\n\u001b[32m   1297\u001b[39m     \u001b[38;5;28;01mif\u001b[39;00m operator == \u001b[33mb\u001b[39m\u001b[33m\"\u001b[39m\u001b[33mBI\u001b[39m\u001b[33m\"\u001b[39m:\n\u001b[32m   1298\u001b[39m         \u001b[38;5;66;03m# begin inline image - a completely different parsing\u001b[39;00m\n\u001b[32m   1299\u001b[39m         \u001b[38;5;66;03m# mechanism is required, of course... thanks buddy...\u001b[39;00m\n\u001b[32m   1300\u001b[39m         \u001b[38;5;28;01massert\u001b[39;00m operands == []\n",
      "\u001b[36mFile \u001b[39m\u001b[32m~\\AppData\\Roaming\\Python\\Python313\\site-packages\\pypdf\\_utils.py:243\u001b[39m, in \u001b[36mread_until_regex\u001b[39m\u001b[34m(stream, regex)\u001b[39m\n\u001b[32m    241\u001b[39m \u001b[38;5;28;01mif\u001b[39;00m m \u001b[38;5;129;01mis\u001b[39;00m \u001b[38;5;129;01mnot\u001b[39;00m \u001b[38;5;28;01mNone\u001b[39;00m:\n\u001b[32m    242\u001b[39m     stream.seek(m.start() - (\u001b[38;5;28mlen\u001b[39m(name) + \u001b[38;5;28mlen\u001b[39m(tok)), \u001b[32m1\u001b[39m)\n\u001b[32m--> \u001b[39m\u001b[32m243\u001b[39m     name = (name + tok)[: \u001b[43mm\u001b[49m\u001b[43m.\u001b[49m\u001b[43mstart\u001b[49m\u001b[43m(\u001b[49m\u001b[43m)\u001b[49m]\n\u001b[32m    244\u001b[39m     \u001b[38;5;28;01mbreak\u001b[39;00m\n\u001b[32m    245\u001b[39m name += tok\n",
      "\u001b[31mKeyboardInterrupt\u001b[39m: "
     ]
    }
   ],
   "source": [
    "import os, pickle\n",
    "\n",
    "def get_documents(data_dir=\"data\", cache_file=\"extracted_data.pkl\"):\n",
    "    if os.path.exists(cache_file):\n",
    "        with open(cache_file, \"rb\") as f:\n",
    "            return pickle.load(f)\n",
    "    else:\n",
    "        loader = DirectoryLoader(data_dir, glob=\"*.pdf\", loader_cls=PyPDFLoader)\n",
    "        documents = loader.load()\n",
    "        with open(cache_file, \"wb\") as f:\n",
    "            pickle.dump(documents, f)\n",
    "        return documents\n",
    "\n",
    "extracted_data = get_documents(\"data\")\n",
    "print(f\"✅ Got {len(extracted_data)} documents\")"
   ]
  },
  {
   "cell_type": "code",
   "execution_count": 11,
   "id": "db2358c0",
   "metadata": {},
   "outputs": [
    {
     "ename": "NameError",
     "evalue": "name 'extracted_data' is not defined",
     "output_type": "error",
     "traceback": [
      "\u001b[31m---------------------------------------------------------------------------\u001b[39m",
      "\u001b[31mNameError\u001b[39m                                 Traceback (most recent call last)",
      "\u001b[36mCell\u001b[39m\u001b[36m \u001b[39m\u001b[32mIn[11]\u001b[39m\u001b[32m, line 1\u001b[39m\n\u001b[32m----> \u001b[39m\u001b[32m1\u001b[39m \u001b[43mextracted_data\u001b[49m\n",
      "\u001b[31mNameError\u001b[39m: name 'extracted_data' is not defined"
     ]
    }
   ],
   "source": [
    "extracted_data"
   ]
  },
  {
   "cell_type": "code",
   "execution_count": 8,
   "id": "b148c5f9",
   "metadata": {},
   "outputs": [],
   "source": [
    "from typing import List\n",
    "from langchain.schema import Document\n",
    "\n",
    "def filter_to_minimal_docs(docs: List[Document]) -> List[Document]:\n",
    "    \"\"\"\n",
    "    Given a list of Document objects,return a new list of Document objects containing only 'soure' in metadata and the original page_content.\n",
    "    \"\"\"\n",
    "    minimal_docs :List[Document]=[]\n",
    "    for doc in docs:\n",
    "        src=doc.metadata.get(\"source\")\n",
    "        minimal_docs.append(\n",
    "            Document(\n",
    "                page_content=doc.page_content,\n",
    "                metadata={\"source\":src}\n",
    "            )\n",
    "        )\n",
    "    return minimal_docs"
   ]
  },
  {
   "cell_type": "code",
   "execution_count": 9,
   "id": "11007995",
   "metadata": {},
   "outputs": [],
   "source": [
    "minimal_docs=filter_to_minimal_docs(extracted_data)"
   ]
  },
  {
   "cell_type": "code",
   "execution_count": 10,
   "id": "cbc619ba",
   "metadata": {},
   "outputs": [
    {
     "data": {
      "text/plain": [
       "4751"
      ]
     },
     "execution_count": 10,
     "metadata": {},
     "output_type": "execute_result"
    }
   ],
   "source": [
    "len(minimal_docs)"
   ]
  },
  {
   "cell_type": "code",
   "execution_count": 11,
   "id": "ec1a9b2c",
   "metadata": {},
   "outputs": [],
   "source": [
    "# Split the documents into smaller chunks\n",
    "def text_split(minimal_docs):\n",
    "    text_splitter=RecursiveCharacterTextSplitter(\n",
    "        chunk_size=1000,\n",
    "        chunk_overlap=20,\n",
    "    )\n",
    "    texts_chunk=text_splitter.split_documents(minimal_docs)\n",
    "    return texts_chunk"
   ]
  },
  {
   "cell_type": "code",
   "execution_count": 12,
   "id": "a826a331",
   "metadata": {},
   "outputs": [
    {
     "name": "stdout",
     "output_type": "stream",
     "text": [
      "Number of chunks:18462\n"
     ]
    }
   ],
   "source": [
    "texts_chunk=text_split(minimal_docs)\n",
    "print(f\"Number of chunks:{len(texts_chunk)}\")"
   ]
  },
  {
   "cell_type": "code",
   "execution_count": 13,
   "id": "fa14de48",
   "metadata": {},
   "outputs": [
    {
     "name": "stderr",
     "output_type": "stream",
     "text": [
      "C:\\Users\\SHAMAN R SHETTY\\AppData\\Local\\Temp\\ipykernel_5572\\1417168083.py:8: LangChainDeprecationWarning: The class `HuggingFaceEmbeddings` was deprecated in LangChain 0.2.2 and will be removed in 1.0. An updated version of the class exists in the :class:`~langchain-huggingface package and should be used instead. To use it run `pip install -U :class:`~langchain-huggingface` and import as `from :class:`~langchain_huggingface import HuggingFaceEmbeddings``.\n",
      "  embeddings=HuggingFaceEmbeddings(\n",
      "C:\\Users\\SHAMAN R SHETTY\\AppData\\Roaming\\Python\\Python313\\site-packages\\tqdm\\auto.py:21: TqdmWarning: IProgress not found. Please update jupyter and ipywidgets. See https://ipywidgets.readthedocs.io/en/stable/user_install.html\n",
      "  from .autonotebook import tqdm as notebook_tqdm\n"
     ]
    },
    {
     "name": "stdout",
     "output_type": "stream",
     "text": [
      "WARNING:tensorflow:From d:\\Anaconda3\\envs\\medibot\\Lib\\site-packages\\tf_keras\\src\\losses.py:2976: The name tf.losses.sparse_softmax_cross_entropy is deprecated. Please use tf.compat.v1.losses.sparse_softmax_cross_entropy instead.\n",
      "\n"
     ]
    }
   ],
   "source": [
    "from langchain.embeddings import HuggingFaceEmbeddings\n",
    "\n",
    "def download_embeddings():\n",
    "    \"\"\"\"\n",
    "    Download and return the embeddings model from HuggingFace.\n",
    "    \"\"\"\n",
    "    model_name=\"sentence-transformers/all-MiniLM-L6-v2\"\n",
    "    embeddings=HuggingFaceEmbeddings(\n",
    "        model_name=model_name\n",
    "    )\n",
    "    return embeddings\n",
    "\n",
    "embedding=download_embeddings()"
   ]
  },
  {
   "cell_type": "code",
   "execution_count": 14,
   "id": "840fa4e5",
   "metadata": {},
   "outputs": [
    {
     "data": {
      "text/plain": [
       "[0.019096743315458298,\n",
       " 0.034465156495571136,\n",
       " 0.09162802249193192,\n",
       " 0.07016527652740479,\n",
       " -0.029946595430374146,\n",
       " -0.08419135212898254,\n",
       " 0.045813582837581635,\n",
       " 0.004958535544574261,\n",
       " -0.09189330786466599,\n",
       " 0.017400633543729782,\n",
       " -0.008816155605018139,\n",
       " -0.0006614617886953056,\n",
       " -0.02855694852769375,\n",
       " -0.021949714049696922,\n",
       " 0.055166687816381454,\n",
       " -0.04983649402856827,\n",
       " 0.08988092094659805,\n",
       " -0.08895715326070786,\n",
       " -0.11235621571540833,\n",
       " 0.03900052234530449,\n",
       " -0.06607077270746231,\n",
       " 0.026095140725374222,\n",
       " 0.036530692130327225,\n",
       " 0.06139037385582924,\n",
       " -0.05712488666176796,\n",
       " -0.05463936924934387,\n",
       " 0.03036557510495186,\n",
       " 0.03238755092024803,\n",
       " 0.012644711881875992,\n",
       " -0.1056857779622078,\n",
       " -0.05834547430276871,\n",
       " 0.06732934713363647,\n",
       " -0.040755920112133026,\n",
       " 0.006439770571887493,\n",
       " 0.005698689259588718,\n",
       " 0.052853215485811234,\n",
       " -0.039775311946868896,\n",
       " -0.11855249851942062,\n",
       " 0.0021162095945328474,\n",
       " -0.016692854464054108,\n",
       " 0.028338085860013962,\n",
       " -0.03743797540664673,\n",
       " -0.021371396258473396,\n",
       " -0.04147520288825035,\n",
       " 0.08497177809476852,\n",
       " -0.06869424879550934,\n",
       " 0.02465163916349411,\n",
       " 0.0716676414012909,\n",
       " 0.10129646956920624,\n",
       " 0.0046516479924321175,\n",
       " -0.10044204443693161,\n",
       " -0.03409433737397194,\n",
       " -0.04017586261034012,\n",
       " 0.036907393485307693,\n",
       " 0.060805998742580414,\n",
       " 0.0414845310151577,\n",
       " -0.06464231759309769,\n",
       " 0.004075036849826574,\n",
       " 0.0672323927283287,\n",
       " -0.009008185006678104,\n",
       " 0.02854790911078453,\n",
       " 0.03975849226117134,\n",
       " -0.08356387168169022,\n",
       " 0.07818618416786194,\n",
       " 0.047505900263786316,\n",
       " -0.034571271389722824,\n",
       " -0.07574190944433212,\n",
       " -0.0545523464679718,\n",
       " -0.03288615867495537,\n",
       " -0.04358893260359764,\n",
       " -0.03013775683939457,\n",
       " -0.028700968250632286,\n",
       " 0.021013731136918068,\n",
       " 0.03135025501251221,\n",
       " -0.03507106751203537,\n",
       " -0.08114135265350342,\n",
       " 0.015103185549378395,\n",
       " -0.05055728927254677,\n",
       " 0.041846856474876404,\n",
       " 0.018703904002904892,\n",
       " 0.07168609648942947,\n",
       " -0.08723876625299454,\n",
       " 0.004274318460375071,\n",
       " 0.035633351653814316,\n",
       " -0.03672021999955177,\n",
       " -0.04095074534416199,\n",
       " 0.05429356172680855,\n",
       " 0.07173128426074982,\n",
       " -0.005851946771144867,\n",
       " 0.0036166105419397354,\n",
       " -0.07766640186309814,\n",
       " 0.09107602387666702,\n",
       " 0.008505058474838734,\n",
       " 0.011655198410153389,\n",
       " 0.01647150330245495,\n",
       " -0.013715389184653759,\n",
       " 0.11914937198162079,\n",
       " -0.017316149547696114,\n",
       " -0.0807151198387146,\n",
       " 0.15161766111850739,\n",
       " 0.04225161299109459,\n",
       " 0.10792200267314911,\n",
       " 0.030309857800602913,\n",
       " -0.04534164443612099,\n",
       " 0.0012669351417571306,\n",
       " 0.030992722138762474,\n",
       " -0.09481146931648254,\n",
       " 0.055455874651670456,\n",
       " -0.040111690759658813,\n",
       " -0.053480442613363266,\n",
       " 0.013489722274243832,\n",
       " -0.047422319650650024,\n",
       " -0.040574461221694946,\n",
       " -0.0015343611594289541,\n",
       " 0.0811234638094902,\n",
       " -0.010530894622206688,\n",
       " 0.013359089381992817,\n",
       " 0.06123610585927963,\n",
       " 0.03557773679494858,\n",
       " 0.02418849803507328,\n",
       " 0.027593443170189857,\n",
       " 0.022382963448762894,\n",
       " 0.017850035801529884,\n",
       " 0.03131359443068504,\n",
       " -0.028898436576128006,\n",
       " 0.0657883882522583,\n",
       " 0.059350062161684036,\n",
       " -6.799298097446122e-33,\n",
       " 0.12271932512521744,\n",
       " -0.021339744329452515,\n",
       " 0.05296023562550545,\n",
       " 0.1537259966135025,\n",
       " -0.07583267986774445,\n",
       " -0.009754099883139133,\n",
       " -0.02992715686559677,\n",
       " -0.05324266105890274,\n",
       " 0.06352602690458298,\n",
       " -0.006747545674443245,\n",
       " 0.041695427149534225,\n",
       " 0.015832053497433662,\n",
       " -0.010370299220085144,\n",
       " 0.01584591716527939,\n",
       " -0.012914426624774933,\n",
       " 0.00692585576325655,\n",
       " -0.03669840097427368,\n",
       " 0.00824759528040886,\n",
       " -0.012457549571990967,\n",
       " 0.12813067436218262,\n",
       " -0.05889573693275452,\n",
       " -0.055159036070108414,\n",
       " -0.035295989364385605,\n",
       " 0.04028092697262764,\n",
       " 0.07243654131889343,\n",
       " -0.009657292626798153,\n",
       " -0.015443717129528522,\n",
       " -0.08016790449619293,\n",
       " 0.009702700190246105,\n",
       " 0.0013278973056003451,\n",
       " -0.04044627770781517,\n",
       " -0.0016515530878677964,\n",
       " 0.04055038467049599,\n",
       " -0.027145786210894585,\n",
       " 0.039446670562028885,\n",
       " -0.0023695984855294228,\n",
       " -0.01122965756803751,\n",
       " 0.009205574169754982,\n",
       " -0.004442908335477114,\n",
       " 0.009510621428489685,\n",
       " -0.008008114993572235,\n",
       " 0.03297479450702667,\n",
       " 0.10025889426469803,\n",
       " -0.027184728533029556,\n",
       " -0.014294905588030815,\n",
       " -0.04416023567318916,\n",
       " -0.023114779964089394,\n",
       " 0.032592643052339554,\n",
       " -0.030741311609745026,\n",
       " -0.03371468186378479,\n",
       " -0.08735746145248413,\n",
       " -0.005818224512040615,\n",
       " -0.0819869264960289,\n",
       " 0.056642334908246994,\n",
       " -0.03746073320508003,\n",
       " -0.04093938320875168,\n",
       " -0.016356445848941803,\n",
       " -0.024528905749320984,\n",
       " 0.02927980199456215,\n",
       " 0.06565262377262115,\n",
       " 0.031188905239105225,\n",
       " 0.1128038614988327,\n",
       " -0.008018365129828453,\n",
       " -0.059587862342596054,\n",
       " -0.10259697586297989,\n",
       " -0.05713994801044464,\n",
       " -0.031245479360222816,\n",
       " -0.02166556753218174,\n",
       " 0.09918410331010818,\n",
       " -0.08118566870689392,\n",
       " 0.033077504485845566,\n",
       " -0.04053870216012001,\n",
       " 0.02233596332371235,\n",
       " 0.05451499670743942,\n",
       " 0.009564921259880066,\n",
       " 0.04598136246204376,\n",
       " -0.0350426584482193,\n",
       " -0.04033379256725311,\n",
       " -0.012591447681188583,\n",
       " -0.07068264484405518,\n",
       " 0.018434859812259674,\n",
       " 0.11093512922525406,\n",
       " -0.03635752201080322,\n",
       " -0.003059942275285721,\n",
       " 0.00985498446971178,\n",
       " -0.0010396798606961966,\n",
       " -0.027691993862390518,\n",
       " -0.09040148556232452,\n",
       " -0.00622855219990015,\n",
       " 0.027660910040140152,\n",
       " -0.03199128061532974,\n",
       " 0.04620137810707092,\n",
       " 0.02702525071799755,\n",
       " -0.022197531536221504,\n",
       " -0.07935500144958496,\n",
       " 4.4641587330704775e-33,\n",
       " 0.12660633027553558,\n",
       " 0.01530363503843546,\n",
       " -0.06519089639186859,\n",
       " -0.04299622029066086,\n",
       " -0.09008954465389252,\n",
       " -0.03892262279987335,\n",
       " -0.04073456674814224,\n",
       " 0.08405837416648865,\n",
       " -0.07292678207159042,\n",
       " 0.015313910320401192,\n",
       " 0.06837795674800873,\n",
       " 0.01676791161298752,\n",
       " 0.04266888648271561,\n",
       " 0.009954322129487991,\n",
       " 0.04329888895153999,\n",
       " -0.0012125467183068395,\n",
       " 0.10194224119186401,\n",
       " 0.030446136370301247,\n",
       " -0.0016220693942159414,\n",
       " -0.03770860657095909,\n",
       " -0.0881190374493599,\n",
       " 0.0969618484377861,\n",
       " -0.042026251554489136,\n",
       " 0.05175328999757767,\n",
       " -0.030169524252414703,\n",
       " -0.02411256916821003,\n",
       " 0.008225586265325546,\n",
       " 0.0702589675784111,\n",
       " -0.049231186509132385,\n",
       " -0.03313424438238144,\n",
       " -0.002758477348834276,\n",
       " -0.02230382151901722,\n",
       " -0.014288347214460373,\n",
       " 0.085598424077034,\n",
       " 0.04443073645234108,\n",
       " 0.0378040187060833,\n",
       " 0.0016859418246895075,\n",
       " -0.07793691009283066,\n",
       " -0.042068470269441605,\n",
       " -0.06557098031044006,\n",
       " -0.07642660290002823,\n",
       " 0.04958990216255188,\n",
       " 0.0028443492483347654,\n",
       " 0.09872078150510788,\n",
       " 0.07328150421380997,\n",
       " -0.0637509897351265,\n",
       " 0.008000080473721027,\n",
       " 0.00877557322382927,\n",
       " 0.000839464133605361,\n",
       " 0.02650630660355091,\n",
       " -0.017607880756258965,\n",
       " -0.014134117402136326,\n",
       " 0.006216748151928186,\n",
       " 0.017505981028079987,\n",
       " 0.01284260768443346,\n",
       " 0.022825881838798523,\n",
       " -0.032478004693984985,\n",
       " -0.042686574161052704,\n",
       " 0.03488348796963692,\n",
       " -0.009335669688880444,\n",
       " 0.001005616970360279,\n",
       " 0.029126929119229317,\n",
       " 0.02496786043047905,\n",
       " 0.043678078800439835,\n",
       " 0.06107625737786293,\n",
       " -0.0039208089001476765,\n",
       " -0.020516281947493553,\n",
       " 0.014230654574930668,\n",
       " -0.019183160737156868,\n",
       " -0.034414418041706085,\n",
       " -0.03630567342042923,\n",
       " -0.03781212493777275,\n",
       " 0.033420853316783905,\n",
       " -0.022875620052218437,\n",
       " 0.007961118593811989,\n",
       " 0.03408406674861908,\n",
       " 0.02874888852238655,\n",
       " -0.0067682391963899136,\n",
       " -0.01763792894780636,\n",
       " -0.00017443984688725322,\n",
       " -0.020491618663072586,\n",
       " 0.02195288985967636,\n",
       " 0.046428095549345016,\n",
       " -0.09749754518270493,\n",
       " -0.10485649108886719,\n",
       " -0.06310377269983292,\n",
       " 0.04805663600564003,\n",
       " 0.03751694783568382,\n",
       " 0.05452950298786163,\n",
       " 0.02473054639995098,\n",
       " 0.031021561473608017,\n",
       " 0.02685776725411415,\n",
       " -0.003434594953432679,\n",
       " 0.00932961143553257,\n",
       " 0.010646884329617023,\n",
       " -1.785356573691388e-08,\n",
       " 0.017632806673645973,\n",
       " -0.006916426122188568,\n",
       " -0.027644431218504906,\n",
       " 0.05963194742798805,\n",
       " 0.002975250594317913,\n",
       " 0.0233878493309021,\n",
       " -0.07481945306062698,\n",
       " -0.013448650017380714,\n",
       " -0.051678236573934555,\n",
       " -0.026301484555006027,\n",
       " 0.04027463495731354,\n",
       " 0.0023245015181601048,\n",
       " -0.10290861129760742,\n",
       " -0.09446514397859573,\n",
       " 0.033735066652297974,\n",
       " 0.015668727457523346,\n",
       " 0.08642300218343735,\n",
       " 0.06274773925542831,\n",
       " -0.07435992360115051,\n",
       " -0.09106236696243286,\n",
       " 0.02468850649893284,\n",
       " -0.0037696657236665487,\n",
       " 0.005878152325749397,\n",
       " 0.058807920664548874,\n",
       " -0.009182177484035492,\n",
       " 0.017796041443943977,\n",
       " 0.014238473027944565,\n",
       " -0.00031469407258555293,\n",
       " -0.008367203176021576,\n",
       " 0.07686841487884521,\n",
       " 0.02061048522591591,\n",
       " 0.16892173886299133,\n",
       " -0.010948614217340946,\n",
       " 0.015818797051906586,\n",
       " -0.03116709366440773,\n",
       " -0.051331035792827606,\n",
       " 0.01859191618859768,\n",
       " 0.003808526089414954,\n",
       " 0.04801809787750244,\n",
       " 0.03197978436946869,\n",
       " -0.014457222074270248,\n",
       " 0.003324038116261363,\n",
       " -0.05325059965252876,\n",
       " -0.056060366332530975,\n",
       " 0.05765755847096443,\n",
       " -0.014859643764793873,\n",
       " 0.06438572704792023,\n",
       " -0.11207679659128189,\n",
       " 0.002142575103789568,\n",
       " 0.0009624686208553612,\n",
       " -0.04924214258790016,\n",
       " 0.015646785497665405,\n",
       " 0.05640392005443573,\n",
       " 0.050491813570261,\n",
       " 0.040296703577041626,\n",
       " 0.07795554399490356,\n",
       " -0.011732918210327625,\n",
       " 0.029994988813996315,\n",
       " -0.06743878126144409,\n",
       " 0.025584956631064415,\n",
       " 0.0036096631083637476,\n",
       " -0.023025348782539368,\n",
       " -0.03700179234147072,\n",
       " -0.0023748469538986683]"
      ]
     },
     "execution_count": 14,
     "metadata": {},
     "output_type": "execute_result"
    }
   ],
   "source": [
    "vector=embedding.embed_query(\"Hello,how are you?\")\n",
    "vector"
   ]
  },
  {
   "cell_type": "code",
   "execution_count": 33,
   "id": "d7649f65",
   "metadata": {},
   "outputs": [
    {
     "data": {
      "text/plain": [
       "True"
      ]
     },
     "execution_count": 33,
     "metadata": {},
     "output_type": "execute_result"
    }
   ],
   "source": [
    "from dotenv import load_dotenv\n",
    "import os\n",
    "load_dotenv()"
   ]
  },
  {
   "cell_type": "code",
   "execution_count": 34,
   "id": "22a94aa9",
   "metadata": {},
   "outputs": [],
   "source": [
    "PINECONE_API_KEY=os.getenv(\"PINECONE_API_KEY\")\n",
    "GEMINI_API_KEY=os.getenv(\"GEMINI_API_KEY\")\n",
    "\n",
    "os.environ[\"PINECONE_API_KEY\"]=PINECONE_API_KEY\n",
    "os.environ[\"GEMINI_API_KEY\"]=GEMINI_API_KEY"
   ]
  },
  {
   "cell_type": "code",
   "execution_count": 35,
   "id": "2a001e63",
   "metadata": {},
   "outputs": [],
   "source": [
    "from pinecone import Pinecone\n",
    "pinecone_api_key=PINECONE_API_KEY\n",
    "\n",
    "pc=Pinecone(api_key=pinecone_api_key)"
   ]
  },
  {
   "cell_type": "code",
   "execution_count": 36,
   "id": "fc4649ec",
   "metadata": {},
   "outputs": [
    {
     "data": {
      "text/plain": [
       "<pinecone.pinecone.Pinecone at 0x1f06d7d4770>"
      ]
     },
     "execution_count": 36,
     "metadata": {},
     "output_type": "execute_result"
    }
   ],
   "source": [
    "pc"
   ]
  },
  {
   "cell_type": "code",
   "execution_count": 37,
   "id": "9f71513c",
   "metadata": {},
   "outputs": [],
   "source": [
    "from pinecone import ServerlessSpec\n",
    "index_name=\"medical-chatbot\"\n",
    "\n",
    "if not pc.has_index(index_name):\n",
    "    pc.create_index(\n",
    "        name=index_name,\n",
    "        dimension=384,\n",
    "        metric=\"cosine\",\n",
    "        spec=ServerlessSpec(cloud=\"aws\",region=\"us-east-1\")\n",
    "    )\n",
    "\n",
    "index=pc.Index(index_name)"
   ]
  },
  {
   "cell_type": "code",
   "execution_count": 4,
   "id": "0d5e5055",
   "metadata": {},
   "outputs": [
    {
     "name": "stdout",
     "output_type": "stream",
     "text": [
      "✅ Pinecone index ready\n"
     ]
    }
   ],
   "source": [
    "import os\n",
    "import pinecone\n",
    "from dotenv import load_dotenv\n",
    "\n",
    "load_dotenv()\n",
    "\n",
    "pc = pinecone.Pinecone(api_key=os.getenv(\"PINECONE_API_KEY\"))\n",
    "index = pc.Index(\"medical-chatbot\")\n",
    "\n",
    "print(\"✅ Pinecone index ready\")\n"
   ]
  },
  {
   "cell_type": "code",
   "execution_count": 5,
   "id": "ca836e50",
   "metadata": {},
   "outputs": [
    {
     "ename": "NameError",
     "evalue": "name 'texts_chunk' is not defined",
     "output_type": "error",
     "traceback": [
      "\u001b[31m---------------------------------------------------------------------------\u001b[39m",
      "\u001b[31mNameError\u001b[39m                                 Traceback (most recent call last)",
      "\u001b[36mCell\u001b[39m\u001b[36m \u001b[39m\u001b[32mIn[5]\u001b[39m\u001b[32m, line 27\u001b[39m\n\u001b[32m     24\u001b[39m     \u001b[38;5;28mprint\u001b[39m(\u001b[33mf\u001b[39m\u001b[33m\"\u001b[39m\u001b[33m✅ Upserted \u001b[39m\u001b[38;5;132;01m{\u001b[39;00m\u001b[38;5;28mlen\u001b[39m(vectors)\u001b[38;5;132;01m}\u001b[39;00m\u001b[33m chunks to Pinecone (deduplicated)\u001b[39m\u001b[33m\"\u001b[39m)\n\u001b[32m     26\u001b[39m \u001b[38;5;66;03m# --- Upload docs into Pinecone ---\u001b[39;00m\n\u001b[32m---> \u001b[39m\u001b[32m27\u001b[39m upsert_chunks(\u001b[43mtexts_chunk\u001b[49m, embedding, index)\n\u001b[32m     29\u001b[39m \u001b[38;5;66;03m# --- Create retriever (so later cells won't break) ---\u001b[39;00m\n\u001b[32m     30\u001b[39m docsearch = PineconeVectorStore(index, embedding, \u001b[33m\"\u001b[39m\u001b[33mtext\u001b[39m\u001b[33m\"\u001b[39m)\n",
      "\u001b[31mNameError\u001b[39m: name 'texts_chunk' is not defined"
     ]
    }
   ],
   "source": [
    "import hashlib\n",
    "from langchain_pinecone import PineconeVectorStore\n",
    "\n",
    "def generate_chunk_id(text: str, metadata: dict) -> str:\n",
    "    \"\"\"Generate a stable unique ID from text + metadata.\"\"\"\n",
    "    raw = text + str(sorted(metadata.items()))\n",
    "    return hashlib.sha256(raw.encode(\"utf-8\")).hexdigest()\n",
    "\n",
    "def upsert_chunks(docs, embeddings, index):\n",
    "    vectors = []\n",
    "    for doc in docs:\n",
    "        chunk_id = generate_chunk_id(doc.page_content, doc.metadata)\n",
    "        embedding = embeddings.embed_query(doc.page_content)\n",
    "        vectors.append({\n",
    "            \"id\": chunk_id,\n",
    "            \"values\": embedding,\n",
    "            \"metadata\": {\n",
    "                **doc.metadata,\n",
    "                \"text\": doc.page_content\n",
    "            }\n",
    "        })\n",
    "    \n",
    "    index.upsert(vectors=vectors)\n",
    "    print(f\"✅ Upserted {len(vectors)} chunks to Pinecone (deduplicated)\")\n",
    "\n",
    "# --- Upload docs into Pinecone ---\n",
    "upsert_chunks(texts_chunk, embedding, index)\n",
    "\n",
    "# --- Create retriever (so later cells won't break) ---\n",
    "docsearch = PineconeVectorStore(index, embedding, \"text\")\n",
    "retriever = docsearch.as_retriever()\n"
   ]
  },
  {
   "cell_type": "code",
   "execution_count": 55,
   "id": "7fac2a01",
   "metadata": {},
   "outputs": [
    {
     "name": "stdout",
     "output_type": "stream",
     "text": [
      "{'dimension': 384,\n",
      " 'index_fullness': 0.0,\n",
      " 'metric': 'cosine',\n",
      " 'namespaces': {'': {'vector_count': 18462}},\n",
      " 'total_vector_count': 18462,\n",
      " 'vector_type': 'dense'}\n"
     ]
    }
   ],
   "source": [
    "print(index.describe_index_stats())\n"
   ]
  },
  {
   "cell_type": "code",
   "execution_count": 38,
   "id": "07749dcd",
   "metadata": {},
   "outputs": [],
   "source": [
    "#load Existing index\n",
    "\n",
    "from langchain_pinecone import PineconeVectorStore\n",
    "#Embed each chunk and upsert the embeddings into Pinecone\n",
    "\n",
    "docsearch=PineconeVectorStore.from_existing_index(\n",
    "    index_name=index_name,\n",
    "    embedding=embedding\n",
    ")\n"
   ]
  },
  {
   "cell_type": "markdown",
   "id": "7c14c2d9",
   "metadata": {},
   "source": [
    "Add more data to the existing Pinecone index"
   ]
  },
  {
   "cell_type": "code",
   "execution_count": 62,
   "id": "07002a6a",
   "metadata": {},
   "outputs": [],
   "source": [
    "dswith=Document(\n",
    "    page_content=\"My name is Shaman R Shetty\",\n",
    "    metadata={\"source\":\"Youtube\"}\n",
    ")"
   ]
  },
  {
   "cell_type": "code",
   "execution_count": 40,
   "id": "1d764df8",
   "metadata": {},
   "outputs": [
    {
     "data": {
      "text/plain": [
       "['f494c547-5386-4b36-b1b8-e10558322b80']"
      ]
     },
     "execution_count": 40,
     "metadata": {},
     "output_type": "execute_result"
    }
   ],
   "source": [
    "docsearch.add_documents(documents=[dswith])"
   ]
  },
  {
   "cell_type": "code",
   "execution_count": 41,
   "id": "c9afadbb",
   "metadata": {},
   "outputs": [],
   "source": [
    "retriever=docsearch.as_retriever(search_type=\"similarity\",search_kwargs={\"k\":3})"
   ]
  },
  {
   "cell_type": "code",
   "execution_count": 42,
   "id": "0b378226",
   "metadata": {},
   "outputs": [
    {
     "data": {
      "text/plain": [
       "[Document(id='dea19ee8-4b7e-41fd-9315-12990e981ab3', metadata={'source': 'data\\\\The_Merck_Manual_of_Diagnosis_and_Therapy_2011 - 19th Edn........pdf'}, page_content='Chapter 73. Acne and Related Disorders\\nIntroduction\\nAcne vulgaris is a common skin problem, affecting most adolescents and many adults. Perioral dermatitis\\nand rosacea can produce similar lesions.\\nAcne Vulgaris\\nAcne vulgaris (acne) is the formation of comedones, papules, pustules, nodules, and/or cysts as\\na result of obstruction and inflammation of pilosebaceous units (hair follicles and their\\naccompanying sebaceous gland). It most often affects adolescents. Diagnosis is by\\nexamination. Treatment is a variety of topical and systemic agents intended to reduce sebum\\nproduction, infection, and inflammation and to normalize keratinization.\\nPathophysiology\\nAcne occurs when pilosebaceous units become obstructed with plugs of sebum and desquamated\\nkeratinocytes, then colonized and sometimes infected with the normal skin anaerobe \\nPropionibacterium\\nacnes\\n. Manifestations differ depending on whether \\nP. acnes\\n stimulates inflammation in the follicle; acne\\ncan be noninflammatory or inflammatory.'),\n",
       " Document(id='a7315f4f-389d-4cdb-b2bd-8dcec7c7c899', metadata={'source': 'data\\\\The_Merck_Manual_of_Diagnosis_and_Therapy_2011 - 19th Edn........pdf'}, page_content='Chapter 73. Acne and Related Disorders\\nIntroduction\\nAcne vulgaris is a common skin problem, affecting most adolescents and many adults. Perioral dermatitis\\nand rosacea can produce similar lesions.\\nAcne Vulgaris\\nAcne vulgaris (acne) is the formation of comedones, papules, pustules, nodules, and/or cysts as\\na result of obstruction and inflammation of pilosebaceous units (hair follicles and their\\naccompanying sebaceous gland). It most often affects adolescents. Diagnosis is by\\nexamination. Treatment is a variety of topical and systemic agents intended to reduce sebum\\nproduction, infection, and inflammation and to normalize keratinization.\\nPathophysiology\\nAcne occurs when pilosebaceous units become obstructed with plugs of sebum and desquamated\\nkeratinocytes, then colonized and sometimes infected with the normal skin anaerobe \\nPropionibacterium\\nacnes\\n. Manifestations differ depending on whether \\nP. acnes\\n stimulates inflammation in the follicle; acne\\ncan be noninflammatory or inflammatory.'),\n",
       " Document(id='a03afc56-bd19-4f55-92ba-cfcd8bb981e1', metadata={'source': 'data\\\\Medical_book.pdf'}, page_content='Acne is a skin condition that occurs when pores or\\nhair follicles become blocked. This allows a waxy\\nmaterial, sebum, to collect inside the pores or follicles.\\nNormally, sebum flows out onto the skin and hair to\\nform a protective coating, but when it cannot get out,\\nsmall swellings develop on the skin surface. Bacteria\\nand dead skin cells can also collect that can cause\\ninflammation. Swellings that are small and not\\ninflamed are whiteheads or blackheads. When they\\nbecome inflamed, they turn into pimples. Pimples that\\nfill with pus are called pustules.\\nAcne cannot be cured, but acne drugs can help clear\\nthe skin. Benzoyl peroxide and tretinoin work by mildly\\nirritating the skin. This encourages skin cells to slough\\noff, which helps open blocked pores. Benzoyl peroxide\\nalso kills bacteria, which helps prevent whiteheads and\\nblackheads from turning into pimples. Isotretinoin\\nshrinks the glands that produce sebum.\\nDescription\\nBenzoyl peroxide is found in many over-the-counter')]"
      ]
     },
     "execution_count": 42,
     "metadata": {},
     "output_type": "execute_result"
    }
   ],
   "source": [
    "retrieved_docs=retriever.invoke(\"What is Acne?\")\n",
    "retrieved_docs"
   ]
  },
  {
   "cell_type": "code",
   "execution_count": 45,
   "id": "9843dbfb",
   "metadata": {},
   "outputs": [],
   "source": [
    "from langchain_google_genai import ChatGoogleGenerativeAI\n",
    "\n",
    "chatModel=ChatGoogleGenerativeAI(\n",
    "    model=\"gemini-2.5-flash\",\n",
    "    google_api_key=GEMINI_API_KEY\n",
    ")"
   ]
  },
  {
   "cell_type": "code",
   "execution_count": 46,
   "id": "f882e586",
   "metadata": {},
   "outputs": [],
   "source": [
    "from langchain.chains import create_retrieval_chain\n",
    "from langchain.chains.combine_documents import create_stuff_documents_chain\n",
    "from langchain_core.prompts import ChatPromptTemplate"
   ]
  },
  {
   "cell_type": "code",
   "execution_count": 64,
   "id": "2b1a0710",
   "metadata": {},
   "outputs": [],
   "source": [
    "system_prompt = (\n",
    "    \"You are a compassionate and knowledgeable medical assistant helping patients with their health questions. \"\n",
    "    \"Use the provided context to give clear, accurate, and supportive answers. \"\n",
    "    \"Keep answers short (max three sentences), use simple language, and be empathetic. \"\n",
    "    \"If the answer is unknown or outside the given context, say you don’t know and suggest consulting a healthcare professional. \"\n",
    "    \"Always remind the patient to seek urgent medical care in case of emergencies. \"\n",
    "    \"\\n\\n\"\n",
    "    \"{context}\"\n",
    ")\n",
    "\n",
    "prompt = ChatPromptTemplate.from_messages(\n",
    "    [\n",
    "        (\"system\", system_prompt),\n",
    "        (\"user\", \"{input}\")\n",
    "    ]\n",
    ")\n"
   ]
  },
  {
   "cell_type": "code",
   "execution_count": 65,
   "id": "ddd6f9e1",
   "metadata": {},
   "outputs": [],
   "source": [
    "question_answer_chain=create_stuff_documents_chain(chatModel,prompt)\n",
    "rag_chain=create_retrieval_chain(retriever,question_answer_chain)"
   ]
  },
  {
   "cell_type": "code",
   "execution_count": 66,
   "id": "49b4a2b2",
   "metadata": {},
   "outputs": [
    {
     "name": "stdout",
     "output_type": "stream",
     "text": [
      "Acne is a common skin condition where pores or hair follicles become blocked, leading to the formation of small swellings like whiteheads, blackheads, or pimples. This happens when a waxy material called sebum, along with bacteria and dead skin cells, collects in the blocked pores and can cause inflammation. It often affects adolescents and many adults.\n"
     ]
    }
   ],
   "source": [
    "response=rag_chain.invoke({\"input\":\"What is Acne?\"})\n",
    "print(response[\"answer\"])"
   ]
  },
  {
   "cell_type": "code",
   "execution_count": 58,
   "id": "de774111",
   "metadata": {},
   "outputs": [
    {
     "name": "stdout",
     "output_type": "stream",
     "text": [
      "Acromegaly is a disorder characterized by the abnormal release of growth hormone (GH) from the pituitary gland, leading to increased growth in bone and soft tissue, and other bodily disturbances. This condition also alters the body's ability to process nutrients like fats and sugars. Gigantism is a variant of acromegaly that occurs in children whose bony growth plates have not yet closed, resulting in exceptional growth of long bones and unusual height.\n"
     ]
    }
   ],
   "source": [
    "\n",
    "response=rag_chain.invoke({\"input\":\"What is Acromegaly and gigantism?\"})\n",
    "print(response[\"answer\"])"
   ]
  },
  {
   "cell_type": "code",
   "execution_count": 67,
   "id": "a0ffadc3",
   "metadata": {},
   "outputs": [
    {
     "name": "stdout",
     "output_type": "stream",
     "text": [
      "Acne treatment focuses on reducing oil production, removing dead skin cells, and killing bacteria. The specific treatment chosen depends on whether your acne is mild, moderate, or severe. This can involve topical medications applied to the skin or oral medications taken by mouth.\n"
     ]
    }
   ],
   "source": [
    "response=rag_chain.invoke({\"input\":\"What is the treatment of Acne?\"})\n",
    "print(response[\"answer\"])"
   ]
  },
  {
   "cell_type": "code",
   "execution_count": 63,
   "id": "58abcb74",
   "metadata": {},
   "outputs": [
    {
     "name": "stdout",
     "output_type": "stream",
     "text": [
      "I apologize, but the provided text does not contain a definition for \"Shaman.\"\n"
     ]
    }
   ],
   "source": [
    "response=rag_chain.invoke({\"input\":\"What is Shaman?\"})\n",
    "print(response[\"answer\"])"
   ]
  },
  {
   "cell_type": "code",
   "execution_count": null,
   "id": "505dfa93",
   "metadata": {},
   "outputs": [],
   "source": []
  }
 ],
 "metadata": {
  "kernelspec": {
   "display_name": "medibot",
   "language": "python",
   "name": "python3"
  },
  "language_info": {
   "codemirror_mode": {
    "name": "ipython",
    "version": 3
   },
   "file_extension": ".py",
   "mimetype": "text/x-python",
   "name": "python",
   "nbconvert_exporter": "python",
   "pygments_lexer": "ipython3",
   "version": "3.13.5"
  }
 },
 "nbformat": 4,
 "nbformat_minor": 5
}
